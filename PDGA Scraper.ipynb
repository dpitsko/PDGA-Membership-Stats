{
 "cells": [
  {
   "cell_type": "code",
   "execution_count": 1,
   "id": "cd40f197",
   "metadata": {},
   "outputs": [],
   "source": [
    "import pandas as pd\n",
    "import numpy as np\n",
    "import requests\n",
    "from bs4 import BeautifulSoup\n",
    "from tqdm.auto import tqdm"
   ]
  },
  {
   "cell_type": "code",
   "execution_count": 2,
   "id": "26b5232c",
   "metadata": {},
   "outputs": [
    {
     "data": {
      "application/vnd.jupyter.widget-view+json": {
       "model_id": "c5300b0323d74f19bd99d74f2e215fef",
       "version_major": 2,
       "version_minor": 0
      },
      "text/plain": [
       "while loop:   0%|          | 0/9482 [00:00<?, ?it/s]"
      ]
     },
     "metadata": {},
     "output_type": "display_data"
    },
    {
     "ename": "AttributeError",
     "evalue": "'NoneType' object has no attribute 'find'",
     "output_type": "error",
     "traceback": [
      "\u001b[1;31m---------------------------------------------------------------------------\u001b[0m",
      "\u001b[1;31mAttributeError\u001b[0m                            Traceback (most recent call last)",
      "\u001b[1;32m~\\AppData\\Local\\Temp\\ipykernel_8032\\2087992257.py\u001b[0m in \u001b[0;36m<module>\u001b[1;34m\u001b[0m\n\u001b[0;32m     12\u001b[0m     \u001b[0msoup\u001b[0m \u001b[1;33m=\u001b[0m \u001b[0mBeautifulSoup\u001b[0m\u001b[1;33m(\u001b[0m\u001b[0mreq\u001b[0m\u001b[1;33m.\u001b[0m\u001b[0mcontent\u001b[0m\u001b[1;33m,\u001b[0m \u001b[1;34m'html.parser'\u001b[0m\u001b[1;33m)\u001b[0m\u001b[1;33m\u001b[0m\u001b[1;33m\u001b[0m\u001b[0m\n\u001b[0;32m     13\u001b[0m     \u001b[0mtable\u001b[0m \u001b[1;33m=\u001b[0m \u001b[0msoup\u001b[0m\u001b[1;33m.\u001b[0m\u001b[0mfind\u001b[0m\u001b[1;33m(\u001b[0m\u001b[1;34m'table'\u001b[0m\u001b[1;33m)\u001b[0m\u001b[1;33m\u001b[0m\u001b[1;33m\u001b[0m\u001b[0m\n\u001b[1;32m---> 14\u001b[1;33m     \u001b[0mtable_body\u001b[0m \u001b[1;33m=\u001b[0m \u001b[0mtable\u001b[0m\u001b[1;33m.\u001b[0m\u001b[0mfind\u001b[0m\u001b[1;33m(\u001b[0m\u001b[1;34m'tbody'\u001b[0m\u001b[1;33m)\u001b[0m\u001b[1;33m\u001b[0m\u001b[1;33m\u001b[0m\u001b[0m\n\u001b[0m\u001b[0;32m     15\u001b[0m \u001b[1;33m\u001b[0m\u001b[0m\n\u001b[0;32m     16\u001b[0m     \u001b[0mdf\u001b[0m \u001b[1;33m=\u001b[0m \u001b[0mdf\u001b[0m\u001b[1;33m.\u001b[0m\u001b[0mappend\u001b[0m\u001b[1;33m(\u001b[0m\u001b[0mdfBlank\u001b[0m\u001b[1;33m)\u001b[0m\u001b[1;33m\u001b[0m\u001b[1;33m\u001b[0m\u001b[0m\n",
      "\u001b[1;31mAttributeError\u001b[0m: 'NoneType' object has no attribute 'find'"
     ]
    }
   ],
   "source": [
    "table = 'hold5'\n",
    "colList = ['Name', 'PDGA Number', 'Rating', 'Class', 'City', 'State', 'Country', 'Membership']\n",
    "pageNum = 0\n",
    "\n",
    "dfBlank = pd.DataFrame(columns = colList, index = range(25))\n",
    "df = pd.DataFrame(columns = colList, index = range(0))\n",
    "\n",
    "pbar = tqdm(desc='while loop', total = 9482)\n",
    "while len(table) == 5:\n",
    "    url = \"https://www.pdga.com/players?page=\" + str(pageNum)\n",
    "    req = requests.get(url)\n",
    "    soup = BeautifulSoup(req.content, 'html.parser')\n",
    "    table = soup.find('table')\n",
    "    table_body = table.find('tbody')\n",
    "    \n",
    "    df = df.append(dfBlank)\n",
    "    df.reset_index(drop = True, inplace = True)\n",
    "    \n",
    "    rows = table_body.find_all('tr')\n",
    "    i = 0\n",
    "    \n",
    "    for row in rows:\n",
    "        cols = row.find_all('td')\n",
    "        cols = [ele.text.strip() for ele in cols]\n",
    "        \n",
    "        if len(cols) == 8:\n",
    "            for j in range(8):\n",
    "                df[colList[j]][i + pageNum * 25] = cols[j]\n",
    "        else:\n",
    "            for j in range(7):\n",
    "                if j <= 4:\n",
    "                    df[colList[j]][i + pageNum * 25] = cols[j]\n",
    "                elif j == 5:\n",
    "                    df[colList[j]][i + pageNum * 25] = np.nan\n",
    "                else:\n",
    "                    df[colList[j]][i + pageNum * 25] = cols[j - 1] \n",
    "        i += 1\n",
    "        \n",
    "    pageNum += 1\n",
    "    pbar.update(1)\n",
    "df"
   ]
  },
  {
   "cell_type": "code",
   "execution_count": 20,
   "id": "af1ac41b",
   "metadata": {},
   "outputs": [],
   "source": [
    "df.head(237063).to_csv('PDGAPlayers.csv')"
   ]
  }
 ],
 "metadata": {
  "kernelspec": {
   "display_name": "Python 3 (ipykernel)",
   "language": "python",
   "name": "python3"
  },
  "language_info": {
   "codemirror_mode": {
    "name": "ipython",
    "version": 3
   },
   "file_extension": ".py",
   "mimetype": "text/x-python",
   "name": "python",
   "nbconvert_exporter": "python",
   "pygments_lexer": "ipython3",
   "version": "3.7.1"
  }
 },
 "nbformat": 4,
 "nbformat_minor": 5
}
